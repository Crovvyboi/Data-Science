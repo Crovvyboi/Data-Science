{
 "cells": [
  {
   "cell_type": "code",
   "execution_count": 1,
   "id": "8696c269",
   "metadata": {},
   "outputs": [],
   "source": [
    "import numpy as np\n",
    "import pandas as pd\n",
    "import scipy.stats as st\n",
    "\n",
    "ytmpv = pd.read_csv('Youtube most popular videos US.csv', sep=',')"
   ]
  },
  {
   "cell_type": "code",
   "execution_count": 7,
   "id": "43706cc3",
   "metadata": {},
   "outputs": [],
   "source": [
    "confidence90 = 0.9\n",
    "confidence95 = 0.95\n",
    "confidence99 = 0.99\n",
    "confidence9999 = 0.9999\n"
   ]
  },
  {
   "cell_type": "code",
   "execution_count": 13,
   "id": "7177229f",
   "metadata": {},
   "outputs": [
    {
     "name": "stdout",
     "output_type": "stream",
     "text": [
      "(3475.430195570965, 3947.3715822502268)\n",
      "(3430.222515158885, 3992.5792626623074)\n",
      "(3341.863564209924, 4080.9382136112686)\n",
      "(3153.214231257339, 4269.587546563854)\n"
     ]
    }
   ],
   "source": [
    "print(st.t.interval(confidence90, len(ytmpv)-1, loc=ytmpv['dislikes'].mean(), scale=st.sem(ytmpv['dislikes'])))\n",
    "print(st.t.interval(confidence95, len(ytmpv)-1, loc=ytmpv['dislikes'].mean(), scale=st.sem(ytmpv['dislikes'])))\n",
    "print(st.t.interval(confidence99, len(ytmpv)-1, loc=ytmpv['dislikes'].mean(), scale=st.sem(ytmpv['dislikes'])))\n",
    "print(st.t.interval(confidence9999, len(ytmpv)-1, loc=ytmpv['dislikes'].mean(), scale=st.sem(ytmpv['dislikes'])))"
   ]
  },
  {
   "cell_type": "code",
   "execution_count": 14,
   "id": "e304ebd0",
   "metadata": {},
   "outputs": [
    {
     "name": "stdout",
     "output_type": "stream",
     "text": [
      "(72406.18644966542, 76127.21841980638)\n",
      "(72049.74552531056, 76483.65934416123)\n",
      "(71353.07748430096, 77180.32738517084)\n",
      "(69865.66777861348, 78667.73709085831)\n"
     ]
    }
   ],
   "source": [
    "print(st.t.interval(confidence90, len(ytmpv)-1, loc=ytmpv['likes'].mean(), scale=st.sem(ytmpv['likes'])))\n",
    "print(st.t.interval(confidence95, len(ytmpv)-1, loc=ytmpv['likes'].mean(), scale=st.sem(ytmpv['likes'])))\n",
    "print(st.t.interval(confidence99, len(ytmpv)-1, loc=ytmpv['likes'].mean(), scale=st.sem(ytmpv['likes'])))\n",
    "print(st.t.interval(confidence9999, len(ytmpv)-1, loc=ytmpv['likes'].mean(), scale=st.sem(ytmpv['likes'])))"
   ]
  },
  {
   "cell_type": "markdown",
   "id": "ff9be79a",
   "metadata": {},
   "source": [
    "Een hogere confidence breedt het interval uit. Zo is het laatste interval van beide kolommen het breedst"
   ]
  },
  {
   "cell_type": "code",
   "execution_count": 18,
   "id": "b24b9065",
   "metadata": {},
   "outputs": [
    {
     "name": "stdout",
     "output_type": "stream",
     "text": [
      "dislikes:\n",
      "(3430.222515158885, 3992.5792626623074)\n",
      "(3683.283051535425, 3739.5187262857676)\n",
      "likes:\n",
      "(72049.74552531056, 76483.65934416123)\n",
      "(74045.00674379336, 74488.39812567843)\n"
     ]
    }
   ],
   "source": [
    "print(\"dislikes:\")\n",
    "print(st.t.interval(confidence95, len(ytmpv)-1, loc=ytmpv['dislikes'].mean(), scale=st.sem(ytmpv['dislikes'])))\n",
    "print(st.t.interval(confidence95, len(ytmpv)-1, loc=ytmpv['dislikes'].mean(), scale=st.sem(ytmpv['dislikes'])*0.1))\n",
    "\n",
    "print(\"likes:\")\n",
    "print(st.t.interval(confidence95, len(ytmpv)-1, loc=ytmpv['likes'].mean(), scale=st.sem(ytmpv['likes'])))\n",
    "print(st.t.interval(confidence95, len(ytmpv)-1, loc=ytmpv['likes'].mean(), scale=st.sem(ytmpv['likes'])*0.1))"
   ]
  },
  {
   "cell_type": "markdown",
   "id": "e2e5226b",
   "metadata": {},
   "source": [
    "De intervallen worden kleiner omdat de poel van entries smaller wordt."
   ]
  }
 ],
 "metadata": {
  "kernelspec": {
   "display_name": "Python 3 (ipykernel)",
   "language": "python",
   "name": "python3"
  },
  "language_info": {
   "codemirror_mode": {
    "name": "ipython",
    "version": 3
   },
   "file_extension": ".py",
   "mimetype": "text/x-python",
   "name": "python",
   "nbconvert_exporter": "python",
   "pygments_lexer": "ipython3",
   "version": "3.9.13"
  }
 },
 "nbformat": 4,
 "nbformat_minor": 5
}
